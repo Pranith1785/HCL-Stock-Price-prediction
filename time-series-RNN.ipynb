{
 "metadata": {
  "language_info": {
   "codemirror_mode": {
    "name": "ipython",
    "version": 3
   },
   "file_extension": ".py",
   "mimetype": "text/x-python",
   "name": "python",
   "nbconvert_exporter": "python",
   "pygments_lexer": "ipython3",
   "version": "3.7.4"
  },
  "orig_nbformat": 4,
  "kernelspec": {
   "name": "python3",
   "display_name": "Python 3.7.4 64-bit ('base': conda)"
  },
  "interpreter": {
   "hash": "b3ba2566441a7c06988d0923437866b63cedc61552a5af99d1f4fb67d367b25f"
  }
 },
 "nbformat": 4,
 "nbformat_minor": 2,
 "cells": [
  {
   "source": [
    "# HCL Stock Price Prediction\n",
    "### Forecasting the stock price movement for next few days by analysing the past data of 3 years"
   ],
   "cell_type": "markdown",
   "metadata": {}
  },
  {
   "cell_type": "code",
   "execution_count": 33,
   "metadata": {},
   "outputs": [],
   "source": [
    "## Libraries\n",
    "import pandas as pd\n",
    "import numpy as np\n",
    "import sklearn.model_selection\n",
    "import matplotlib.pyplot as plt\n",
    "import seaborn as sns\n",
    "%matplotlib inline"
   ]
  },
  {
   "cell_type": "code",
   "execution_count": 34,
   "metadata": {},
   "outputs": [],
   "source": [
    "data = pd.read_csv(\"HCL-training.csv\")"
   ]
  },
  {
   "cell_type": "code",
   "execution_count": 35,
   "metadata": {},
   "outputs": [
    {
     "output_type": "execute_result",
     "data": {
      "text/plain": [
       "Index(['Date', 'series', 'OPEN', 'HIGH', 'LOW', 'PREV_CLOSE', 'LTP', 'close',\n",
       "       'vwap', '52W H', '52W L', 'VOLUME', 'VALUE', 'No of trades'],\n",
       "      dtype='object')"
      ]
     },
     "metadata": {},
     "execution_count": 35
    }
   ],
   "source": [
    "data.columns"
   ]
  },
  {
   "source": [
    "### Sorting the data with Date"
   ],
   "cell_type": "markdown",
   "metadata": {}
  },
  {
   "cell_type": "code",
   "execution_count": 36,
   "metadata": {},
   "outputs": [
    {
     "output_type": "execute_result",
     "data": {
      "text/plain": [
       "        Date series    OPEN    HIGH     LOW PREV_CLOSE     LTP   close  \\\n",
       "0 2017-07-07     EQ   840.5   840.5   828.8     840.65     832   831.9   \n",
       "1 2017-07-10     EQ     834  856.85   830.1      831.9  848.55  849.65   \n",
       "2 2017-07-11     EQ  845.65     869  845.65     849.65     850  850.65   \n",
       "3 2017-07-12     EQ   850.1   858.5  846.05     850.65  856.05     854   \n",
       "4 2017-07-13     EQ   856.1   863.9   855.5        854   859.5   858.6   \n",
       "\n",
       "     vwap  52W H   52W L   VOLUME              VALUE  No of trades  \n",
       "0  832.01  909.6  710.25  1151617    95,81,53,517.90         43966  \n",
       "1  846.64  909.6  710.25   234294    19,83,61,677.00          4274  \n",
       "2     858  909.6  710.25  1496700  1,28,41,63,046.30         37920  \n",
       "3     851  909.6  710.25   602978    51,31,36,503.45         44329  \n",
       "4  860.37  909.6  710.25   956409    82,28,67,012.65         31337  "
      ],
      "text/html": "<div>\n<style scoped>\n    .dataframe tbody tr th:only-of-type {\n        vertical-align: middle;\n    }\n\n    .dataframe tbody tr th {\n        vertical-align: top;\n    }\n\n    .dataframe thead th {\n        text-align: right;\n    }\n</style>\n<table border=\"1\" class=\"dataframe\">\n  <thead>\n    <tr style=\"text-align: right;\">\n      <th></th>\n      <th>Date</th>\n      <th>series</th>\n      <th>OPEN</th>\n      <th>HIGH</th>\n      <th>LOW</th>\n      <th>PREV_CLOSE</th>\n      <th>LTP</th>\n      <th>close</th>\n      <th>vwap</th>\n      <th>52W H</th>\n      <th>52W L</th>\n      <th>VOLUME</th>\n      <th>VALUE</th>\n      <th>No of trades</th>\n    </tr>\n  </thead>\n  <tbody>\n    <tr>\n      <td>0</td>\n      <td>2017-07-07</td>\n      <td>EQ</td>\n      <td>840.5</td>\n      <td>840.5</td>\n      <td>828.8</td>\n      <td>840.65</td>\n      <td>832</td>\n      <td>831.9</td>\n      <td>832.01</td>\n      <td>909.6</td>\n      <td>710.25</td>\n      <td>1151617</td>\n      <td>95,81,53,517.90</td>\n      <td>43966</td>\n    </tr>\n    <tr>\n      <td>1</td>\n      <td>2017-07-10</td>\n      <td>EQ</td>\n      <td>834</td>\n      <td>856.85</td>\n      <td>830.1</td>\n      <td>831.9</td>\n      <td>848.55</td>\n      <td>849.65</td>\n      <td>846.64</td>\n      <td>909.6</td>\n      <td>710.25</td>\n      <td>234294</td>\n      <td>19,83,61,677.00</td>\n      <td>4274</td>\n    </tr>\n    <tr>\n      <td>2</td>\n      <td>2017-07-11</td>\n      <td>EQ</td>\n      <td>845.65</td>\n      <td>869</td>\n      <td>845.65</td>\n      <td>849.65</td>\n      <td>850</td>\n      <td>850.65</td>\n      <td>858</td>\n      <td>909.6</td>\n      <td>710.25</td>\n      <td>1496700</td>\n      <td>1,28,41,63,046.30</td>\n      <td>37920</td>\n    </tr>\n    <tr>\n      <td>3</td>\n      <td>2017-07-12</td>\n      <td>EQ</td>\n      <td>850.1</td>\n      <td>858.5</td>\n      <td>846.05</td>\n      <td>850.65</td>\n      <td>856.05</td>\n      <td>854</td>\n      <td>851</td>\n      <td>909.6</td>\n      <td>710.25</td>\n      <td>602978</td>\n      <td>51,31,36,503.45</td>\n      <td>44329</td>\n    </tr>\n    <tr>\n      <td>4</td>\n      <td>2017-07-13</td>\n      <td>EQ</td>\n      <td>856.1</td>\n      <td>863.9</td>\n      <td>855.5</td>\n      <td>854</td>\n      <td>859.5</td>\n      <td>858.6</td>\n      <td>860.37</td>\n      <td>909.6</td>\n      <td>710.25</td>\n      <td>956409</td>\n      <td>82,28,67,012.65</td>\n      <td>31337</td>\n    </tr>\n  </tbody>\n</table>\n</div>"
     },
     "metadata": {},
     "execution_count": 36
    }
   ],
   "source": [
    "data['Date'] = pd.to_datetime(data['Date'])\n",
    "data.sort_values(by=['Date'],inplace=True)\n",
    "data.head(5)"
   ]
  },
  {
   "source": [
    "### For forecating i'm considering Closing Price of the Stock"
   ],
   "cell_type": "markdown",
   "metadata": {}
  },
  {
   "cell_type": "code",
   "execution_count": 37,
   "metadata": {},
   "outputs": [],
   "source": [
    "data['close'] = data['close'].apply(lambda x : x.replace(\",\",\"\"))"
   ]
  },
  {
   "cell_type": "code",
   "execution_count": 38,
   "metadata": {},
   "outputs": [],
   "source": [
    "data['close'] = pd.to_numeric(data['close'])\n",
    "training_set = data.iloc[:,7:8].values"
   ]
  },
  {
   "cell_type": "code",
   "execution_count": 39,
   "metadata": {},
   "outputs": [],
   "source": [
    "from sklearn.preprocessing import MinMaxScaler\n",
    "sc = MinMaxScaler(feature_range = (0, 1))\n",
    "training_set_scaled = sc.fit_transform(training_set)\n"
   ]
  },
  {
   "cell_type": "code",
   "execution_count": 40,
   "metadata": {},
   "outputs": [],
   "source": [
    "X_train = []\n",
    "y_train = []\n",
    "for i in range(10, data.shape[0]):\n",
    "    X_train.append(training_set_scaled[i-10:i, 0])\n",
    "    y_train.append(training_set_scaled[i, 0])\n",
    "X_train, y_train = np.array(X_train), np.array(y_train)"
   ]
  },
  {
   "cell_type": "code",
   "execution_count": 41,
   "metadata": {},
   "outputs": [],
   "source": [
    "# Reshaping\n",
    "X_train = np.reshape(X_train, (X_train.shape[0], X_train.shape[1], 1))"
   ]
  },
  {
   "cell_type": "code",
   "execution_count": 42,
   "metadata": {},
   "outputs": [
    {
     "output_type": "stream",
     "name": "stdout",
     "text": [
      "Epoch 1/100\n",
      "954/954 [==============================] - 4s 4ms/sample - loss: 0.1182\n",
      "Epoch 2/100\n",
      "954/954 [==============================] - 1s 927us/sample - loss: 0.0194\n",
      "Epoch 3/100\n",
      "954/954 [==============================] - 1s 924us/sample - loss: 0.0127\n",
      "Epoch 4/100\n",
      "954/954 [==============================] - 1s 909us/sample - loss: 0.0106\n",
      "Epoch 5/100\n",
      "954/954 [==============================] - 1s 985us/sample - loss: 0.0111\n",
      "Epoch 6/100\n",
      "954/954 [==============================] - 1s 936us/sample - loss: 0.0093\n",
      "Epoch 7/100\n",
      "954/954 [==============================] - 1s 921us/sample - loss: 0.0109\n",
      "Epoch 8/100\n",
      "954/954 [==============================] - 1s 1ms/sample - loss: 0.0097\n",
      "Epoch 9/100\n",
      "954/954 [==============================] - 1s 934us/sample - loss: 0.0097\n",
      "Epoch 10/100\n",
      "954/954 [==============================] - 1s 946us/sample - loss: 0.0094\n",
      "Epoch 11/100\n",
      "954/954 [==============================] - 1s 1ms/sample - loss: 0.0096\n",
      "Epoch 12/100\n",
      "954/954 [==============================] - 1s 1ms/sample - loss: 0.0095\n",
      "Epoch 13/100\n",
      "954/954 [==============================] - 2s 2ms/sample - loss: 0.0097\n",
      "Epoch 14/100\n",
      "954/954 [==============================] - 1s 1ms/sample - loss: 0.0092\n",
      "Epoch 15/100\n",
      "954/954 [==============================] - 1s 1ms/sample - loss: 0.0084\n",
      "Epoch 16/100\n",
      "954/954 [==============================] - 1s 1ms/sample - loss: 0.0088\n",
      "Epoch 17/100\n",
      "954/954 [==============================] - 1s 1ms/sample - loss: 0.0079\n",
      "Epoch 18/100\n",
      "954/954 [==============================] - 1s 1ms/sample - loss: 0.0075\n",
      "Epoch 19/100\n",
      "954/954 [==============================] - 1s 1ms/sample - loss: 0.0077\n",
      "Epoch 20/100\n",
      "954/954 [==============================] - 1s 1ms/sample - loss: 0.0087\n",
      "Epoch 21/100\n",
      "954/954 [==============================] - 1s 1ms/sample - loss: 0.0082\n",
      "Epoch 22/100\n",
      "954/954 [==============================] - 1s 1ms/sample - loss: 0.0089\n",
      "Epoch 23/100\n",
      "954/954 [==============================] - 1s 1ms/sample - loss: 0.0081\n",
      "Epoch 24/100\n",
      "954/954 [==============================] - 1s 1ms/sample - loss: 0.0080\n",
      "Epoch 25/100\n",
      "954/954 [==============================] - 1s 1ms/sample - loss: 0.0071\n",
      "Epoch 26/100\n",
      "954/954 [==============================] - 1s 1ms/sample - loss: 0.0077\n",
      "Epoch 27/100\n",
      "954/954 [==============================] - 1s 1ms/sample - loss: 0.0076\n",
      "Epoch 28/100\n",
      "954/954 [==============================] - 1s 1ms/sample - loss: 0.0073\n",
      "Epoch 29/100\n",
      "954/954 [==============================] - 1s 1ms/sample - loss: 0.0067\n",
      "Epoch 30/100\n",
      "954/954 [==============================] - 1s 1ms/sample - loss: 0.0072\n",
      "Epoch 31/100\n",
      "954/954 [==============================] - 1s 1ms/sample - loss: 0.0069\n",
      "Epoch 32/100\n",
      "954/954 [==============================] - 1s 1ms/sample - loss: 0.0076\n",
      "Epoch 33/100\n",
      "954/954 [==============================] - 1s 1ms/sample - loss: 0.0067\n",
      "Epoch 34/100\n",
      "954/954 [==============================] - 1s 1ms/sample - loss: 0.0058\n",
      "Epoch 35/100\n",
      "954/954 [==============================] - 1s 1ms/sample - loss: 0.0060\n",
      "Epoch 36/100\n",
      "954/954 [==============================] - 1s 1ms/sample - loss: 0.0061\n",
      "Epoch 37/100\n",
      "954/954 [==============================] - 1s 914us/sample - loss: 0.0055\n",
      "Epoch 38/100\n",
      "954/954 [==============================] - 1s 871us/sample - loss: 0.0061\n",
      "Epoch 39/100\n",
      "954/954 [==============================] - 1s 892us/sample - loss: 0.0058\n",
      "Epoch 40/100\n",
      "954/954 [==============================] - 1s 890us/sample - loss: 0.0055\n",
      "Epoch 41/100\n",
      "954/954 [==============================] - 1s 876us/sample - loss: 0.0051\n",
      "Epoch 42/100\n",
      "954/954 [==============================] - 1s 873us/sample - loss: 0.0055\n",
      "Epoch 43/100\n",
      "954/954 [==============================] - 1s 864us/sample - loss: 0.0054\n",
      "Epoch 44/100\n",
      "954/954 [==============================] - 1s 925us/sample - loss: 0.0054\n",
      "Epoch 45/100\n",
      "954/954 [==============================] - 1s 903us/sample - loss: 0.0048\n",
      "Epoch 46/100\n",
      "954/954 [==============================] - 1s 873us/sample - loss: 0.0051\n",
      "Epoch 47/100\n",
      "954/954 [==============================] - 1s 866us/sample - loss: 0.0049\n",
      "Epoch 48/100\n",
      "954/954 [==============================] - 1s 864us/sample - loss: 0.0050\n",
      "Epoch 49/100\n",
      "954/954 [==============================] - 1s 851us/sample - loss: 0.0046\n",
      "Epoch 50/100\n",
      "954/954 [==============================] - 1s 867us/sample - loss: 0.0046\n",
      "Epoch 51/100\n",
      "954/954 [==============================] - 1s 860us/sample - loss: 0.0050\n",
      "Epoch 52/100\n",
      "954/954 [==============================] - 1s 865us/sample - loss: 0.0050\n",
      "Epoch 53/100\n",
      "954/954 [==============================] - 1s 837us/sample - loss: 0.0047\n",
      "Epoch 54/100\n",
      "954/954 [==============================] - 1s 850us/sample - loss: 0.0054\n",
      "Epoch 55/100\n",
      "954/954 [==============================] - 1s 880us/sample - loss: 0.0046\n",
      "Epoch 56/100\n",
      "954/954 [==============================] - 1s 846us/sample - loss: 0.0047\n",
      "Epoch 57/100\n",
      "954/954 [==============================] - 1s 849us/sample - loss: 0.0041\n",
      "Epoch 58/100\n",
      "954/954 [==============================] - 1s 835us/sample - loss: 0.0043\n",
      "Epoch 59/100\n",
      "954/954 [==============================] - 1s 844us/sample - loss: 0.0042\n",
      "Epoch 60/100\n",
      "954/954 [==============================] - 1s 871us/sample - loss: 0.0042\n",
      "Epoch 61/100\n",
      "954/954 [==============================] - 1s 848us/sample - loss: 0.0044\n",
      "Epoch 62/100\n",
      "954/954 [==============================] - 1s 852us/sample - loss: 0.0043\n",
      "Epoch 63/100\n",
      "954/954 [==============================] - 1s 843us/sample - loss: 0.0039\n",
      "Epoch 64/100\n",
      "954/954 [==============================] - 1s 850us/sample - loss: 0.0045\n",
      "Epoch 65/100\n",
      "954/954 [==============================] - 1s 850us/sample - loss: 0.0042\n",
      "Epoch 66/100\n",
      "954/954 [==============================] - 1s 851us/sample - loss: 0.0042\n",
      "Epoch 67/100\n",
      "954/954 [==============================] - 1s 854us/sample - loss: 0.0037\n",
      "Epoch 68/100\n",
      "954/954 [==============================] - 1s 854us/sample - loss: 0.0038\n",
      "Epoch 69/100\n",
      "954/954 [==============================] - 1s 866us/sample - loss: 0.0043\n",
      "Epoch 70/100\n",
      "954/954 [==============================] - 1s 852us/sample - loss: 0.0036\n",
      "Epoch 71/100\n",
      "954/954 [==============================] - 1s 864us/sample - loss: 0.0036\n",
      "Epoch 72/100\n",
      "954/954 [==============================] - 1s 900us/sample - loss: 0.0037\n",
      "Epoch 73/100\n",
      "954/954 [==============================] - 1s 847us/sample - loss: 0.0037\n",
      "Epoch 74/100\n",
      "954/954 [==============================] - 1s 849us/sample - loss: 0.0039\n",
      "Epoch 75/100\n",
      "954/954 [==============================] - 1s 845us/sample - loss: 0.0041\n",
      "Epoch 76/100\n",
      "954/954 [==============================] - 1s 852us/sample - loss: 0.0034\n",
      "Epoch 77/100\n",
      "954/954 [==============================] - 1s 855us/sample - loss: 0.0037\n",
      "Epoch 78/100\n",
      "954/954 [==============================] - 1s 846us/sample - loss: 0.0033\n",
      "Epoch 79/100\n",
      "954/954 [==============================] - 1s 850us/sample - loss: 0.0034\n",
      "Epoch 80/100\n",
      "954/954 [==============================] - 1s 844us/sample - loss: 0.0037\n",
      "Epoch 81/100\n",
      "954/954 [==============================] - 1s 851us/sample - loss: 0.0030\n",
      "Epoch 82/100\n",
      "954/954 [==============================] - 1s 849us/sample - loss: 0.0034\n",
      "Epoch 83/100\n",
      "954/954 [==============================] - 1s 850us/sample - loss: 0.0030\n",
      "Epoch 84/100\n",
      "954/954 [==============================] - 1s 870us/sample - loss: 0.0033\n",
      "Epoch 85/100\n",
      "954/954 [==============================] - 1s 865us/sample - loss: 0.0035\n",
      "Epoch 86/100\n",
      "954/954 [==============================] - 1s 864us/sample - loss: 0.0032\n",
      "Epoch 87/100\n",
      "954/954 [==============================] - 1s 869us/sample - loss: 0.0034\n",
      "Epoch 88/100\n",
      "954/954 [==============================] - 1s 844us/sample - loss: 0.0032\n",
      "Epoch 89/100\n",
      "954/954 [==============================] - 1s 848us/sample - loss: 0.0031\n",
      "Epoch 90/100\n",
      "954/954 [==============================] - 1s 867us/sample - loss: 0.0032\n",
      "Epoch 91/100\n",
      "954/954 [==============================] - 1s 851us/sample - loss: 0.0034\n",
      "Epoch 92/100\n",
      "954/954 [==============================] - 1s 867us/sample - loss: 0.0029\n",
      "Epoch 93/100\n",
      "954/954 [==============================] - 1s 849us/sample - loss: 0.0030\n",
      "Epoch 94/100\n",
      "954/954 [==============================] - 1s 855us/sample - loss: 0.0035\n",
      "Epoch 95/100\n",
      "954/954 [==============================] - 1s 857us/sample - loss: 0.0030\n",
      "Epoch 96/100\n",
      "954/954 [==============================] - 1s 853us/sample - loss: 0.0028\n",
      "Epoch 97/100\n",
      "954/954 [==============================] - 1s 862us/sample - loss: 0.0028\n",
      "Epoch 98/100\n",
      "954/954 [==============================] - 1s 849us/sample - loss: 0.0031\n",
      "Epoch 99/100\n",
      "954/954 [==============================] - 1s 860us/sample - loss: 0.0030\n",
      "Epoch 100/100\n",
      "954/954 [==============================] - 1s 880us/sample - loss: 0.0026\n"
     ]
    },
    {
     "output_type": "execute_result",
     "data": {
      "text/plain": [
       "<tensorflow.python.keras.callbacks.History at 0x126786537c8>"
      ]
     },
     "metadata": {},
     "execution_count": 42
    }
   ],
   "source": [
    " ##Part 2 - Building the RNN\n",
    "\n",
    "# Importing the Keras libraries and packages\n",
    "from tensorflow.keras.models import Sequential\n",
    "from tensorflow.keras.layers import Dense, LSTM, Dropout\n",
    "\n",
    "# Initialising the RNN\n",
    "regressor = Sequential()\n",
    "\n",
    "# Adding the first LSTM layer and some Dropout regularisation\n",
    "regressor.add(LSTM(units = 50, return_sequences = True, input_shape = (X_train.shape[1], 1)))\n",
    "regressor.add(Dropout(0.2))\n",
    "\n",
    "# Adding a second LSTM layer and some Dropout regularisation\n",
    "regressor.add(LSTM(units = 50, return_sequences = True))\n",
    "regressor.add(Dropout(0.2))\n",
    "\n",
    "# Adding a third LSTM layer and some Dropout regularisation\n",
    "regressor.add(LSTM(units = 50, return_sequences = True))\n",
    "regressor.add(Dropout(0.2))\n",
    "\n",
    "# Adding a fourth LSTM layer and some Dropout regularisation\n",
    "regressor.add(LSTM(units = 50))\n",
    "regressor.add(Dropout(0.2))\n",
    "\n",
    "# Adding the output layer\n",
    "regressor.add(Dense(units = 1))\n",
    "\n",
    "# Compiling the RNN\n",
    "regressor.compile(optimizer = 'adam', loss = 'mean_squared_error')\n",
    "\n",
    "# Fitting the RNN to the Training set\n",
    "regressor.fit(X_train, y_train, epochs = 100, batch_size = 32)\n"
   ]
  },
  {
   "cell_type": "code",
   "execution_count": 43,
   "metadata": {},
   "outputs": [],
   "source": [
    "dataset_test = pd.read_csv('HCL-test.csv')\n",
    "#dataset_test['close'] = dataset_test['close'].apply(lambda x : x.replace(\",\",\"\"))\n",
    "dataset_test['close'] = pd.to_numeric(dataset_test['close'])\n",
    "real_stock_price = dataset_test.iloc[:,7:8].values"
   ]
  },
  {
   "cell_type": "code",
   "execution_count": 48,
   "metadata": {},
   "outputs": [
    {
     "output_type": "display_data",
     "data": {
      "text/plain": "<Figure size 432x288 with 1 Axes>",
      "image/svg+xml": "<?xml version=\"1.0\" encoding=\"utf-8\" standalone=\"no\"?>\r\n<!DOCTYPE svg PUBLIC \"-//W3C//DTD SVG 1.1//EN\"\r\n  \"http://www.w3.org/Graphics/SVG/1.1/DTD/svg11.dtd\">\r\n<!-- Created with matplotlib (https://matplotlib.org/) -->\r\n<svg height=\"277.314375pt\" version=\"1.1\" viewBox=\"0 0 395.328125 277.314375\" width=\"395.328125pt\" xmlns=\"http://www.w3.org/2000/svg\" xmlns:xlink=\"http://www.w3.org/1999/xlink\">\r\n <defs>\r\n  <style type=\"text/css\">\r\n*{stroke-linecap:butt;stroke-linejoin:round;}\r\n  </style>\r\n </defs>\r\n <g id=\"figure_1\">\r\n  <g id=\"patch_1\">\r\n   <path d=\"M 0 277.314375 \r\nL 395.328125 277.314375 \r\nL 395.328125 0 \r\nL 0 0 \r\nz\r\n\" style=\"fill:none;\"/>\r\n  </g>\r\n  <g id=\"axes_1\">\r\n   <g id=\"patch_2\">\r\n    <path d=\"M 53.328125 239.758125 \r\nL 388.128125 239.758125 \r\nL 388.128125 22.318125 \r\nL 53.328125 22.318125 \r\nz\r\n\" style=\"fill:#ffffff;\"/>\r\n   </g>\r\n   <g id=\"matplotlib.axis_1\">\r\n    <g id=\"xtick_1\">\r\n     <g id=\"line2d_1\">\r\n      <defs>\r\n       <path d=\"M 0 0 \r\nL 0 3.5 \r\n\" id=\"m35e18c861e\" style=\"stroke:#000000;stroke-width:0.8;\"/>\r\n      </defs>\r\n      <g>\r\n       <use style=\"stroke:#000000;stroke-width:0.8;\" x=\"68.546307\" xlink:href=\"#m35e18c861e\" y=\"239.758125\"/>\r\n      </g>\r\n     </g>\r\n     <g id=\"text_1\">\r\n      <!-- 0 -->\r\n      <defs>\r\n       <path d=\"M 31.78125 66.40625 \r\nQ 24.171875 66.40625 20.328125 58.90625 \r\nQ 16.5 51.421875 16.5 36.375 \r\nQ 16.5 21.390625 20.328125 13.890625 \r\nQ 24.171875 6.390625 31.78125 6.390625 \r\nQ 39.453125 6.390625 43.28125 13.890625 \r\nQ 47.125 21.390625 47.125 36.375 \r\nQ 47.125 51.421875 43.28125 58.90625 \r\nQ 39.453125 66.40625 31.78125 66.40625 \r\nz\r\nM 31.78125 74.21875 \r\nQ 44.046875 74.21875 50.515625 64.515625 \r\nQ 56.984375 54.828125 56.984375 36.375 \r\nQ 56.984375 17.96875 50.515625 8.265625 \r\nQ 44.046875 -1.421875 31.78125 -1.421875 \r\nQ 19.53125 -1.421875 13.0625 8.265625 \r\nQ 6.59375 17.96875 6.59375 36.375 \r\nQ 6.59375 54.828125 13.0625 64.515625 \r\nQ 19.53125 74.21875 31.78125 74.21875 \r\nz\r\n\" id=\"DejaVuSans-48\"/>\r\n      </defs>\r\n      <g transform=\"translate(65.365057 254.356562)scale(0.1 -0.1)\">\r\n       <use xlink:href=\"#DejaVuSans-48\"/>\r\n      </g>\r\n     </g>\r\n    </g>\r\n    <g id=\"xtick_2\">\r\n     <g id=\"line2d_2\">\r\n      <g>\r\n       <use style=\"stroke:#000000;stroke-width:0.8;\" x=\"129.419034\" xlink:href=\"#m35e18c861e\" y=\"239.758125\"/>\r\n      </g>\r\n     </g>\r\n     <g id=\"text_2\">\r\n      <!-- 5 -->\r\n      <defs>\r\n       <path d=\"M 10.796875 72.90625 \r\nL 49.515625 72.90625 \r\nL 49.515625 64.59375 \r\nL 19.828125 64.59375 \r\nL 19.828125 46.734375 \r\nQ 21.96875 47.46875 24.109375 47.828125 \r\nQ 26.265625 48.1875 28.421875 48.1875 \r\nQ 40.625 48.1875 47.75 41.5 \r\nQ 54.890625 34.8125 54.890625 23.390625 \r\nQ 54.890625 11.625 47.5625 5.09375 \r\nQ 40.234375 -1.421875 26.90625 -1.421875 \r\nQ 22.3125 -1.421875 17.546875 -0.640625 \r\nQ 12.796875 0.140625 7.71875 1.703125 \r\nL 7.71875 11.625 \r\nQ 12.109375 9.234375 16.796875 8.0625 \r\nQ 21.484375 6.890625 26.703125 6.890625 \r\nQ 35.15625 6.890625 40.078125 11.328125 \r\nQ 45.015625 15.765625 45.015625 23.390625 \r\nQ 45.015625 31 40.078125 35.4375 \r\nQ 35.15625 39.890625 26.703125 39.890625 \r\nQ 22.75 39.890625 18.8125 39.015625 \r\nQ 14.890625 38.140625 10.796875 36.28125 \r\nz\r\n\" id=\"DejaVuSans-53\"/>\r\n      </defs>\r\n      <g transform=\"translate(126.237784 254.356562)scale(0.1 -0.1)\">\r\n       <use xlink:href=\"#DejaVuSans-53\"/>\r\n      </g>\r\n     </g>\r\n    </g>\r\n    <g id=\"xtick_3\">\r\n     <g id=\"line2d_3\">\r\n      <g>\r\n       <use style=\"stroke:#000000;stroke-width:0.8;\" x=\"190.291761\" xlink:href=\"#m35e18c861e\" y=\"239.758125\"/>\r\n      </g>\r\n     </g>\r\n     <g id=\"text_3\">\r\n      <!-- 10 -->\r\n      <defs>\r\n       <path d=\"M 12.40625 8.296875 \r\nL 28.515625 8.296875 \r\nL 28.515625 63.921875 \r\nL 10.984375 60.40625 \r\nL 10.984375 69.390625 \r\nL 28.421875 72.90625 \r\nL 38.28125 72.90625 \r\nL 38.28125 8.296875 \r\nL 54.390625 8.296875 \r\nL 54.390625 0 \r\nL 12.40625 0 \r\nz\r\n\" id=\"DejaVuSans-49\"/>\r\n      </defs>\r\n      <g transform=\"translate(183.929261 254.356562)scale(0.1 -0.1)\">\r\n       <use xlink:href=\"#DejaVuSans-49\"/>\r\n       <use x=\"63.623047\" xlink:href=\"#DejaVuSans-48\"/>\r\n      </g>\r\n     </g>\r\n    </g>\r\n    <g id=\"xtick_4\">\r\n     <g id=\"line2d_4\">\r\n      <g>\r\n       <use style=\"stroke:#000000;stroke-width:0.8;\" x=\"251.164489\" xlink:href=\"#m35e18c861e\" y=\"239.758125\"/>\r\n      </g>\r\n     </g>\r\n     <g id=\"text_4\">\r\n      <!-- 15 -->\r\n      <g transform=\"translate(244.801989 254.356562)scale(0.1 -0.1)\">\r\n       <use xlink:href=\"#DejaVuSans-49\"/>\r\n       <use x=\"63.623047\" xlink:href=\"#DejaVuSans-53\"/>\r\n      </g>\r\n     </g>\r\n    </g>\r\n    <g id=\"xtick_5\">\r\n     <g id=\"line2d_5\">\r\n      <g>\r\n       <use style=\"stroke:#000000;stroke-width:0.8;\" x=\"312.037216\" xlink:href=\"#m35e18c861e\" y=\"239.758125\"/>\r\n      </g>\r\n     </g>\r\n     <g id=\"text_5\">\r\n      <!-- 20 -->\r\n      <defs>\r\n       <path d=\"M 19.1875 8.296875 \r\nL 53.609375 8.296875 \r\nL 53.609375 0 \r\nL 7.328125 0 \r\nL 7.328125 8.296875 \r\nQ 12.9375 14.109375 22.625 23.890625 \r\nQ 32.328125 33.6875 34.8125 36.53125 \r\nQ 39.546875 41.84375 41.421875 45.53125 \r\nQ 43.3125 49.21875 43.3125 52.78125 \r\nQ 43.3125 58.59375 39.234375 62.25 \r\nQ 35.15625 65.921875 28.609375 65.921875 \r\nQ 23.96875 65.921875 18.8125 64.3125 \r\nQ 13.671875 62.703125 7.8125 59.421875 \r\nL 7.8125 69.390625 \r\nQ 13.765625 71.78125 18.9375 73 \r\nQ 24.125 74.21875 28.421875 74.21875 \r\nQ 39.75 74.21875 46.484375 68.546875 \r\nQ 53.21875 62.890625 53.21875 53.421875 \r\nQ 53.21875 48.921875 51.53125 44.890625 \r\nQ 49.859375 40.875 45.40625 35.40625 \r\nQ 44.1875 33.984375 37.640625 27.21875 \r\nQ 31.109375 20.453125 19.1875 8.296875 \r\nz\r\n\" id=\"DejaVuSans-50\"/>\r\n      </defs>\r\n      <g transform=\"translate(305.674716 254.356562)scale(0.1 -0.1)\">\r\n       <use xlink:href=\"#DejaVuSans-50\"/>\r\n       <use x=\"63.623047\" xlink:href=\"#DejaVuSans-48\"/>\r\n      </g>\r\n     </g>\r\n    </g>\r\n    <g id=\"xtick_6\">\r\n     <g id=\"line2d_6\">\r\n      <g>\r\n       <use style=\"stroke:#000000;stroke-width:0.8;\" x=\"372.909943\" xlink:href=\"#m35e18c861e\" y=\"239.758125\"/>\r\n      </g>\r\n     </g>\r\n     <g id=\"text_6\">\r\n      <!-- 25 -->\r\n      <g transform=\"translate(366.547443 254.356562)scale(0.1 -0.1)\">\r\n       <use xlink:href=\"#DejaVuSans-50\"/>\r\n       <use x=\"63.623047\" xlink:href=\"#DejaVuSans-53\"/>\r\n      </g>\r\n     </g>\r\n    </g>\r\n    <g id=\"text_7\">\r\n     <!-- Time -->\r\n     <defs>\r\n      <path d=\"M -0.296875 72.90625 \r\nL 61.375 72.90625 \r\nL 61.375 64.59375 \r\nL 35.5 64.59375 \r\nL 35.5 0 \r\nL 25.59375 0 \r\nL 25.59375 64.59375 \r\nL -0.296875 64.59375 \r\nz\r\n\" id=\"DejaVuSans-84\"/>\r\n      <path d=\"M 9.421875 54.6875 \r\nL 18.40625 54.6875 \r\nL 18.40625 0 \r\nL 9.421875 0 \r\nz\r\nM 9.421875 75.984375 \r\nL 18.40625 75.984375 \r\nL 18.40625 64.59375 \r\nL 9.421875 64.59375 \r\nz\r\n\" id=\"DejaVuSans-105\"/>\r\n      <path d=\"M 52 44.1875 \r\nQ 55.375 50.25 60.0625 53.125 \r\nQ 64.75 56 71.09375 56 \r\nQ 79.640625 56 84.28125 50.015625 \r\nQ 88.921875 44.046875 88.921875 33.015625 \r\nL 88.921875 0 \r\nL 79.890625 0 \r\nL 79.890625 32.71875 \r\nQ 79.890625 40.578125 77.09375 44.375 \r\nQ 74.3125 48.1875 68.609375 48.1875 \r\nQ 61.625 48.1875 57.5625 43.546875 \r\nQ 53.515625 38.921875 53.515625 30.90625 \r\nL 53.515625 0 \r\nL 44.484375 0 \r\nL 44.484375 32.71875 \r\nQ 44.484375 40.625 41.703125 44.40625 \r\nQ 38.921875 48.1875 33.109375 48.1875 \r\nQ 26.21875 48.1875 22.15625 43.53125 \r\nQ 18.109375 38.875 18.109375 30.90625 \r\nL 18.109375 0 \r\nL 9.078125 0 \r\nL 9.078125 54.6875 \r\nL 18.109375 54.6875 \r\nL 18.109375 46.1875 \r\nQ 21.1875 51.21875 25.484375 53.609375 \r\nQ 29.78125 56 35.6875 56 \r\nQ 41.65625 56 45.828125 52.96875 \r\nQ 50 49.953125 52 44.1875 \r\nz\r\n\" id=\"DejaVuSans-109\"/>\r\n      <path d=\"M 56.203125 29.59375 \r\nL 56.203125 25.203125 \r\nL 14.890625 25.203125 \r\nQ 15.484375 15.921875 20.484375 11.0625 \r\nQ 25.484375 6.203125 34.421875 6.203125 \r\nQ 39.59375 6.203125 44.453125 7.46875 \r\nQ 49.3125 8.734375 54.109375 11.28125 \r\nL 54.109375 2.78125 \r\nQ 49.265625 0.734375 44.1875 -0.34375 \r\nQ 39.109375 -1.421875 33.890625 -1.421875 \r\nQ 20.796875 -1.421875 13.15625 6.1875 \r\nQ 5.515625 13.8125 5.515625 26.8125 \r\nQ 5.515625 40.234375 12.765625 48.109375 \r\nQ 20.015625 56 32.328125 56 \r\nQ 43.359375 56 49.78125 48.890625 \r\nQ 56.203125 41.796875 56.203125 29.59375 \r\nz\r\nM 47.21875 32.234375 \r\nQ 47.125 39.59375 43.09375 43.984375 \r\nQ 39.0625 48.390625 32.421875 48.390625 \r\nQ 24.90625 48.390625 20.390625 44.140625 \r\nQ 15.875 39.890625 15.1875 32.171875 \r\nz\r\n\" id=\"DejaVuSans-101\"/>\r\n     </defs>\r\n     <g transform=\"translate(208.340625 268.034687)scale(0.1 -0.1)\">\r\n      <use xlink:href=\"#DejaVuSans-84\"/>\r\n      <use x=\"61.037109\" xlink:href=\"#DejaVuSans-105\"/>\r\n      <use x=\"88.820312\" xlink:href=\"#DejaVuSans-109\"/>\r\n      <use x=\"186.232422\" xlink:href=\"#DejaVuSans-101\"/>\r\n     </g>\r\n    </g>\r\n   </g>\r\n   <g id=\"matplotlib.axis_2\">\r\n    <g id=\"ytick_1\">\r\n     <g id=\"line2d_7\">\r\n      <defs>\r\n       <path d=\"M 0 0 \r\nL -3.5 0 \r\n\" id=\"ma8200e1d96\" style=\"stroke:#000000;stroke-width:0.8;\"/>\r\n      </defs>\r\n      <g>\r\n       <use style=\"stroke:#000000;stroke-width:0.8;\" x=\"53.328125\" xlink:href=\"#ma8200e1d96\" y=\"223.234605\"/>\r\n      </g>\r\n     </g>\r\n     <g id=\"text_8\">\r\n      <!-- 900 -->\r\n      <defs>\r\n       <path d=\"M 10.984375 1.515625 \r\nL 10.984375 10.5 \r\nQ 14.703125 8.734375 18.5 7.8125 \r\nQ 22.3125 6.890625 25.984375 6.890625 \r\nQ 35.75 6.890625 40.890625 13.453125 \r\nQ 46.046875 20.015625 46.78125 33.40625 \r\nQ 43.953125 29.203125 39.59375 26.953125 \r\nQ 35.25 24.703125 29.984375 24.703125 \r\nQ 19.046875 24.703125 12.671875 31.3125 \r\nQ 6.296875 37.9375 6.296875 49.421875 \r\nQ 6.296875 60.640625 12.9375 67.421875 \r\nQ 19.578125 74.21875 30.609375 74.21875 \r\nQ 43.265625 74.21875 49.921875 64.515625 \r\nQ 56.59375 54.828125 56.59375 36.375 \r\nQ 56.59375 19.140625 48.40625 8.859375 \r\nQ 40.234375 -1.421875 26.421875 -1.421875 \r\nQ 22.703125 -1.421875 18.890625 -0.6875 \r\nQ 15.09375 0.046875 10.984375 1.515625 \r\nz\r\nM 30.609375 32.421875 \r\nQ 37.25 32.421875 41.125 36.953125 \r\nQ 45.015625 41.5 45.015625 49.421875 \r\nQ 45.015625 57.28125 41.125 61.84375 \r\nQ 37.25 66.40625 30.609375 66.40625 \r\nQ 23.96875 66.40625 20.09375 61.84375 \r\nQ 16.21875 57.28125 16.21875 49.421875 \r\nQ 16.21875 41.5 20.09375 36.953125 \r\nQ 23.96875 32.421875 30.609375 32.421875 \r\nz\r\n\" id=\"DejaVuSans-57\"/>\r\n      </defs>\r\n      <g transform=\"translate(27.240625 227.033823)scale(0.1 -0.1)\">\r\n       <use xlink:href=\"#DejaVuSans-57\"/>\r\n       <use x=\"63.623047\" xlink:href=\"#DejaVuSans-48\"/>\r\n       <use x=\"127.246094\" xlink:href=\"#DejaVuSans-48\"/>\r\n      </g>\r\n     </g>\r\n    </g>\r\n    <g id=\"ytick_2\">\r\n     <g id=\"line2d_8\">\r\n      <g>\r\n       <use style=\"stroke:#000000;stroke-width:0.8;\" x=\"53.328125\" xlink:href=\"#ma8200e1d96\" y=\"183.290466\"/>\r\n      </g>\r\n     </g>\r\n     <g id=\"text_9\">\r\n      <!-- 920 -->\r\n      <g transform=\"translate(27.240625 187.089685)scale(0.1 -0.1)\">\r\n       <use xlink:href=\"#DejaVuSans-57\"/>\r\n       <use x=\"63.623047\" xlink:href=\"#DejaVuSans-50\"/>\r\n       <use x=\"127.246094\" xlink:href=\"#DejaVuSans-48\"/>\r\n      </g>\r\n     </g>\r\n    </g>\r\n    <g id=\"ytick_3\">\r\n     <g id=\"line2d_9\">\r\n      <g>\r\n       <use style=\"stroke:#000000;stroke-width:0.8;\" x=\"53.328125\" xlink:href=\"#ma8200e1d96\" y=\"143.346327\"/>\r\n      </g>\r\n     </g>\r\n     <g id=\"text_10\">\r\n      <!-- 940 -->\r\n      <defs>\r\n       <path d=\"M 37.796875 64.3125 \r\nL 12.890625 25.390625 \r\nL 37.796875 25.390625 \r\nz\r\nM 35.203125 72.90625 \r\nL 47.609375 72.90625 \r\nL 47.609375 25.390625 \r\nL 58.015625 25.390625 \r\nL 58.015625 17.1875 \r\nL 47.609375 17.1875 \r\nL 47.609375 0 \r\nL 37.796875 0 \r\nL 37.796875 17.1875 \r\nL 4.890625 17.1875 \r\nL 4.890625 26.703125 \r\nz\r\n\" id=\"DejaVuSans-52\"/>\r\n      </defs>\r\n      <g transform=\"translate(27.240625 147.145546)scale(0.1 -0.1)\">\r\n       <use xlink:href=\"#DejaVuSans-57\"/>\r\n       <use x=\"63.623047\" xlink:href=\"#DejaVuSans-52\"/>\r\n       <use x=\"127.246094\" xlink:href=\"#DejaVuSans-48\"/>\r\n      </g>\r\n     </g>\r\n    </g>\r\n    <g id=\"ytick_4\">\r\n     <g id=\"line2d_10\">\r\n      <g>\r\n       <use style=\"stroke:#000000;stroke-width:0.8;\" x=\"53.328125\" xlink:href=\"#ma8200e1d96\" y=\"103.402189\"/>\r\n      </g>\r\n     </g>\r\n     <g id=\"text_11\">\r\n      <!-- 960 -->\r\n      <defs>\r\n       <path d=\"M 33.015625 40.375 \r\nQ 26.375 40.375 22.484375 35.828125 \r\nQ 18.609375 31.296875 18.609375 23.390625 \r\nQ 18.609375 15.53125 22.484375 10.953125 \r\nQ 26.375 6.390625 33.015625 6.390625 \r\nQ 39.65625 6.390625 43.53125 10.953125 \r\nQ 47.40625 15.53125 47.40625 23.390625 \r\nQ 47.40625 31.296875 43.53125 35.828125 \r\nQ 39.65625 40.375 33.015625 40.375 \r\nz\r\nM 52.59375 71.296875 \r\nL 52.59375 62.3125 \r\nQ 48.875 64.0625 45.09375 64.984375 \r\nQ 41.3125 65.921875 37.59375 65.921875 \r\nQ 27.828125 65.921875 22.671875 59.328125 \r\nQ 17.53125 52.734375 16.796875 39.40625 \r\nQ 19.671875 43.65625 24.015625 45.921875 \r\nQ 28.375 48.1875 33.59375 48.1875 \r\nQ 44.578125 48.1875 50.953125 41.515625 \r\nQ 57.328125 34.859375 57.328125 23.390625 \r\nQ 57.328125 12.15625 50.6875 5.359375 \r\nQ 44.046875 -1.421875 33.015625 -1.421875 \r\nQ 20.359375 -1.421875 13.671875 8.265625 \r\nQ 6.984375 17.96875 6.984375 36.375 \r\nQ 6.984375 53.65625 15.1875 63.9375 \r\nQ 23.390625 74.21875 37.203125 74.21875 \r\nQ 40.921875 74.21875 44.703125 73.484375 \r\nQ 48.484375 72.75 52.59375 71.296875 \r\nz\r\n\" id=\"DejaVuSans-54\"/>\r\n      </defs>\r\n      <g transform=\"translate(27.240625 107.201407)scale(0.1 -0.1)\">\r\n       <use xlink:href=\"#DejaVuSans-57\"/>\r\n       <use x=\"63.623047\" xlink:href=\"#DejaVuSans-54\"/>\r\n       <use x=\"127.246094\" xlink:href=\"#DejaVuSans-48\"/>\r\n      </g>\r\n     </g>\r\n    </g>\r\n    <g id=\"ytick_5\">\r\n     <g id=\"line2d_11\">\r\n      <g>\r\n       <use style=\"stroke:#000000;stroke-width:0.8;\" x=\"53.328125\" xlink:href=\"#ma8200e1d96\" y=\"63.45805\"/>\r\n      </g>\r\n     </g>\r\n     <g id=\"text_12\">\r\n      <!-- 980 -->\r\n      <defs>\r\n       <path d=\"M 31.78125 34.625 \r\nQ 24.75 34.625 20.71875 30.859375 \r\nQ 16.703125 27.09375 16.703125 20.515625 \r\nQ 16.703125 13.921875 20.71875 10.15625 \r\nQ 24.75 6.390625 31.78125 6.390625 \r\nQ 38.8125 6.390625 42.859375 10.171875 \r\nQ 46.921875 13.96875 46.921875 20.515625 \r\nQ 46.921875 27.09375 42.890625 30.859375 \r\nQ 38.875 34.625 31.78125 34.625 \r\nz\r\nM 21.921875 38.8125 \r\nQ 15.578125 40.375 12.03125 44.71875 \r\nQ 8.5 49.078125 8.5 55.328125 \r\nQ 8.5 64.0625 14.71875 69.140625 \r\nQ 20.953125 74.21875 31.78125 74.21875 \r\nQ 42.671875 74.21875 48.875 69.140625 \r\nQ 55.078125 64.0625 55.078125 55.328125 \r\nQ 55.078125 49.078125 51.53125 44.71875 \r\nQ 48 40.375 41.703125 38.8125 \r\nQ 48.828125 37.15625 52.796875 32.3125 \r\nQ 56.78125 27.484375 56.78125 20.515625 \r\nQ 56.78125 9.90625 50.3125 4.234375 \r\nQ 43.84375 -1.421875 31.78125 -1.421875 \r\nQ 19.734375 -1.421875 13.25 4.234375 \r\nQ 6.78125 9.90625 6.78125 20.515625 \r\nQ 6.78125 27.484375 10.78125 32.3125 \r\nQ 14.796875 37.15625 21.921875 38.8125 \r\nz\r\nM 18.3125 54.390625 \r\nQ 18.3125 48.734375 21.84375 45.5625 \r\nQ 25.390625 42.390625 31.78125 42.390625 \r\nQ 38.140625 42.390625 41.71875 45.5625 \r\nQ 45.3125 48.734375 45.3125 54.390625 \r\nQ 45.3125 60.0625 41.71875 63.234375 \r\nQ 38.140625 66.40625 31.78125 66.40625 \r\nQ 25.390625 66.40625 21.84375 63.234375 \r\nQ 18.3125 60.0625 18.3125 54.390625 \r\nz\r\n\" id=\"DejaVuSans-56\"/>\r\n      </defs>\r\n      <g transform=\"translate(27.240625 67.257269)scale(0.1 -0.1)\">\r\n       <use xlink:href=\"#DejaVuSans-57\"/>\r\n       <use x=\"63.623047\" xlink:href=\"#DejaVuSans-56\"/>\r\n       <use x=\"127.246094\" xlink:href=\"#DejaVuSans-48\"/>\r\n      </g>\r\n     </g>\r\n    </g>\r\n    <g id=\"ytick_6\">\r\n     <g id=\"line2d_12\">\r\n      <g>\r\n       <use style=\"stroke:#000000;stroke-width:0.8;\" x=\"53.328125\" xlink:href=\"#ma8200e1d96\" y=\"23.513911\"/>\r\n      </g>\r\n     </g>\r\n     <g id=\"text_13\">\r\n      <!-- 1000 -->\r\n      <g transform=\"translate(20.878125 27.31313)scale(0.1 -0.1)\">\r\n       <use xlink:href=\"#DejaVuSans-49\"/>\r\n       <use x=\"63.623047\" xlink:href=\"#DejaVuSans-48\"/>\r\n       <use x=\"127.246094\" xlink:href=\"#DejaVuSans-48\"/>\r\n       <use x=\"190.869141\" xlink:href=\"#DejaVuSans-48\"/>\r\n      </g>\r\n     </g>\r\n    </g>\r\n    <g id=\"text_14\">\r\n     <!-- HCL Stock Price -->\r\n     <defs>\r\n      <path d=\"M 9.8125 72.90625 \r\nL 19.671875 72.90625 \r\nL 19.671875 43.015625 \r\nL 55.515625 43.015625 \r\nL 55.515625 72.90625 \r\nL 65.375 72.90625 \r\nL 65.375 0 \r\nL 55.515625 0 \r\nL 55.515625 34.71875 \r\nL 19.671875 34.71875 \r\nL 19.671875 0 \r\nL 9.8125 0 \r\nz\r\n\" id=\"DejaVuSans-72\"/>\r\n      <path d=\"M 64.40625 67.28125 \r\nL 64.40625 56.890625 \r\nQ 59.421875 61.53125 53.78125 63.8125 \r\nQ 48.140625 66.109375 41.796875 66.109375 \r\nQ 29.296875 66.109375 22.65625 58.46875 \r\nQ 16.015625 50.828125 16.015625 36.375 \r\nQ 16.015625 21.96875 22.65625 14.328125 \r\nQ 29.296875 6.6875 41.796875 6.6875 \r\nQ 48.140625 6.6875 53.78125 8.984375 \r\nQ 59.421875 11.28125 64.40625 15.921875 \r\nL 64.40625 5.609375 \r\nQ 59.234375 2.09375 53.4375 0.328125 \r\nQ 47.65625 -1.421875 41.21875 -1.421875 \r\nQ 24.65625 -1.421875 15.125 8.703125 \r\nQ 5.609375 18.84375 5.609375 36.375 \r\nQ 5.609375 53.953125 15.125 64.078125 \r\nQ 24.65625 74.21875 41.21875 74.21875 \r\nQ 47.75 74.21875 53.53125 72.484375 \r\nQ 59.328125 70.75 64.40625 67.28125 \r\nz\r\n\" id=\"DejaVuSans-67\"/>\r\n      <path d=\"M 9.8125 72.90625 \r\nL 19.671875 72.90625 \r\nL 19.671875 8.296875 \r\nL 55.171875 8.296875 \r\nL 55.171875 0 \r\nL 9.8125 0 \r\nz\r\n\" id=\"DejaVuSans-76\"/>\r\n      <path id=\"DejaVuSans-32\"/>\r\n      <path d=\"M 53.515625 70.515625 \r\nL 53.515625 60.890625 \r\nQ 47.90625 63.578125 42.921875 64.890625 \r\nQ 37.9375 66.21875 33.296875 66.21875 \r\nQ 25.25 66.21875 20.875 63.09375 \r\nQ 16.5 59.96875 16.5 54.203125 \r\nQ 16.5 49.359375 19.40625 46.890625 \r\nQ 22.3125 44.4375 30.421875 42.921875 \r\nL 36.375 41.703125 \r\nQ 47.40625 39.59375 52.65625 34.296875 \r\nQ 57.90625 29 57.90625 20.125 \r\nQ 57.90625 9.515625 50.796875 4.046875 \r\nQ 43.703125 -1.421875 29.984375 -1.421875 \r\nQ 24.8125 -1.421875 18.96875 -0.25 \r\nQ 13.140625 0.921875 6.890625 3.21875 \r\nL 6.890625 13.375 \r\nQ 12.890625 10.015625 18.65625 8.296875 \r\nQ 24.421875 6.59375 29.984375 6.59375 \r\nQ 38.421875 6.59375 43.015625 9.90625 \r\nQ 47.609375 13.234375 47.609375 19.390625 \r\nQ 47.609375 24.75 44.3125 27.78125 \r\nQ 41.015625 30.8125 33.5 32.328125 \r\nL 27.484375 33.5 \r\nQ 16.453125 35.6875 11.515625 40.375 \r\nQ 6.59375 45.0625 6.59375 53.421875 \r\nQ 6.59375 63.09375 13.40625 68.65625 \r\nQ 20.21875 74.21875 32.171875 74.21875 \r\nQ 37.3125 74.21875 42.625 73.28125 \r\nQ 47.953125 72.359375 53.515625 70.515625 \r\nz\r\n\" id=\"DejaVuSans-83\"/>\r\n      <path d=\"M 18.3125 70.21875 \r\nL 18.3125 54.6875 \r\nL 36.8125 54.6875 \r\nL 36.8125 47.703125 \r\nL 18.3125 47.703125 \r\nL 18.3125 18.015625 \r\nQ 18.3125 11.328125 20.140625 9.421875 \r\nQ 21.96875 7.515625 27.59375 7.515625 \r\nL 36.8125 7.515625 \r\nL 36.8125 0 \r\nL 27.59375 0 \r\nQ 17.1875 0 13.234375 3.875 \r\nQ 9.28125 7.765625 9.28125 18.015625 \r\nL 9.28125 47.703125 \r\nL 2.6875 47.703125 \r\nL 2.6875 54.6875 \r\nL 9.28125 54.6875 \r\nL 9.28125 70.21875 \r\nz\r\n\" id=\"DejaVuSans-116\"/>\r\n      <path d=\"M 30.609375 48.390625 \r\nQ 23.390625 48.390625 19.1875 42.75 \r\nQ 14.984375 37.109375 14.984375 27.296875 \r\nQ 14.984375 17.484375 19.15625 11.84375 \r\nQ 23.34375 6.203125 30.609375 6.203125 \r\nQ 37.796875 6.203125 41.984375 11.859375 \r\nQ 46.1875 17.53125 46.1875 27.296875 \r\nQ 46.1875 37.015625 41.984375 42.703125 \r\nQ 37.796875 48.390625 30.609375 48.390625 \r\nz\r\nM 30.609375 56 \r\nQ 42.328125 56 49.015625 48.375 \r\nQ 55.71875 40.765625 55.71875 27.296875 \r\nQ 55.71875 13.875 49.015625 6.21875 \r\nQ 42.328125 -1.421875 30.609375 -1.421875 \r\nQ 18.84375 -1.421875 12.171875 6.21875 \r\nQ 5.515625 13.875 5.515625 27.296875 \r\nQ 5.515625 40.765625 12.171875 48.375 \r\nQ 18.84375 56 30.609375 56 \r\nz\r\n\" id=\"DejaVuSans-111\"/>\r\n      <path d=\"M 48.78125 52.59375 \r\nL 48.78125 44.1875 \r\nQ 44.96875 46.296875 41.140625 47.34375 \r\nQ 37.3125 48.390625 33.40625 48.390625 \r\nQ 24.65625 48.390625 19.8125 42.84375 \r\nQ 14.984375 37.3125 14.984375 27.296875 \r\nQ 14.984375 17.28125 19.8125 11.734375 \r\nQ 24.65625 6.203125 33.40625 6.203125 \r\nQ 37.3125 6.203125 41.140625 7.25 \r\nQ 44.96875 8.296875 48.78125 10.40625 \r\nL 48.78125 2.09375 \r\nQ 45.015625 0.34375 40.984375 -0.53125 \r\nQ 36.96875 -1.421875 32.421875 -1.421875 \r\nQ 20.0625 -1.421875 12.78125 6.34375 \r\nQ 5.515625 14.109375 5.515625 27.296875 \r\nQ 5.515625 40.671875 12.859375 48.328125 \r\nQ 20.21875 56 33.015625 56 \r\nQ 37.15625 56 41.109375 55.140625 \r\nQ 45.0625 54.296875 48.78125 52.59375 \r\nz\r\n\" id=\"DejaVuSans-99\"/>\r\n      <path d=\"M 9.078125 75.984375 \r\nL 18.109375 75.984375 \r\nL 18.109375 31.109375 \r\nL 44.921875 54.6875 \r\nL 56.390625 54.6875 \r\nL 27.390625 29.109375 \r\nL 57.625 0 \r\nL 45.90625 0 \r\nL 18.109375 26.703125 \r\nL 18.109375 0 \r\nL 9.078125 0 \r\nz\r\n\" id=\"DejaVuSans-107\"/>\r\n      <path d=\"M 19.671875 64.796875 \r\nL 19.671875 37.40625 \r\nL 32.078125 37.40625 \r\nQ 38.96875 37.40625 42.71875 40.96875 \r\nQ 46.484375 44.53125 46.484375 51.125 \r\nQ 46.484375 57.671875 42.71875 61.234375 \r\nQ 38.96875 64.796875 32.078125 64.796875 \r\nz\r\nM 9.8125 72.90625 \r\nL 32.078125 72.90625 \r\nQ 44.34375 72.90625 50.609375 67.359375 \r\nQ 56.890625 61.8125 56.890625 51.125 \r\nQ 56.890625 40.328125 50.609375 34.8125 \r\nQ 44.34375 29.296875 32.078125 29.296875 \r\nL 19.671875 29.296875 \r\nL 19.671875 0 \r\nL 9.8125 0 \r\nz\r\n\" id=\"DejaVuSans-80\"/>\r\n      <path d=\"M 41.109375 46.296875 \r\nQ 39.59375 47.171875 37.8125 47.578125 \r\nQ 36.03125 48 33.890625 48 \r\nQ 26.265625 48 22.1875 43.046875 \r\nQ 18.109375 38.09375 18.109375 28.8125 \r\nL 18.109375 0 \r\nL 9.078125 0 \r\nL 9.078125 54.6875 \r\nL 18.109375 54.6875 \r\nL 18.109375 46.1875 \r\nQ 20.953125 51.171875 25.484375 53.578125 \r\nQ 30.03125 56 36.53125 56 \r\nQ 37.453125 56 38.578125 55.875 \r\nQ 39.703125 55.765625 41.0625 55.515625 \r\nz\r\n\" id=\"DejaVuSans-114\"/>\r\n     </defs>\r\n     <g transform=\"translate(14.798438 170.376406)rotate(-90)scale(0.1 -0.1)\">\r\n      <use xlink:href=\"#DejaVuSans-72\"/>\r\n      <use x=\"75.195312\" xlink:href=\"#DejaVuSans-67\"/>\r\n      <use x=\"145.019531\" xlink:href=\"#DejaVuSans-76\"/>\r\n      <use x=\"200.732422\" xlink:href=\"#DejaVuSans-32\"/>\r\n      <use x=\"232.519531\" xlink:href=\"#DejaVuSans-83\"/>\r\n      <use x=\"295.996094\" xlink:href=\"#DejaVuSans-116\"/>\r\n      <use x=\"335.205078\" xlink:href=\"#DejaVuSans-111\"/>\r\n      <use x=\"396.386719\" xlink:href=\"#DejaVuSans-99\"/>\r\n      <use x=\"451.367188\" xlink:href=\"#DejaVuSans-107\"/>\r\n      <use x=\"509.277344\" xlink:href=\"#DejaVuSans-32\"/>\r\n      <use x=\"541.064453\" xlink:href=\"#DejaVuSans-80\"/>\r\n      <use x=\"601.351562\" xlink:href=\"#DejaVuSans-114\"/>\r\n      <use x=\"642.464844\" xlink:href=\"#DejaVuSans-105\"/>\r\n      <use x=\"670.248047\" xlink:href=\"#DejaVuSans-99\"/>\r\n      <use x=\"725.228516\" xlink:href=\"#DejaVuSans-101\"/>\r\n     </g>\r\n    </g>\r\n   </g>\r\n   <g id=\"line2d_13\">\r\n    <path clip-path=\"url(#p44ac95a524)\" d=\"M 68.546307 121.976213 \r\nL 80.720852 135.856801 \r\nL 92.895398 144.444791 \r\nL 105.069943 150.236691 \r\nL 117.244489 124.173141 \r\nL 129.419034 89.022299 \r\nL 141.59358 80.83375 \r\nL 153.768125 86.326069 \r\nL 165.94267 56.767407 \r\nL 178.117216 55.069781 \r\nL 190.291761 52.573272 \r\nL 202.466307 64.656374 \r\nL 214.640852 50.675925 \r\nL 226.815398 72.944783 \r\nL 238.989943 59.463636 \r\nL 251.164489 63.258329 \r\nL 263.339034 77.638219 \r\nL 275.51358 44.085143 \r\nL 287.688125 32.201761 \r\nL 299.86267 52.872853 \r\nL 312.037216 56.268105 \r\nL 324.211761 56.467826 \r\nL 336.386307 52.473412 \r\nL 348.560852 54.171038 \r\nL 360.735398 63.957352 \r\nL 372.909943 79.335845 \r\n\" style=\"fill:none;stroke:#ff0000;stroke-linecap:square;stroke-width:1.5;\"/>\r\n   </g>\r\n   <g id=\"line2d_14\">\r\n    <path clip-path=\"url(#p44ac95a524)\" d=\"M 68.546307 102.41675 \r\nL 80.720852 122.387235 \r\nL 92.895398 148.935557 \r\nL 105.069943 170.642017 \r\nL 117.244489 184.91149 \r\nL 129.419034 199.080152 \r\nL 141.59358 215.654019 \r\nL 153.768125 224.649984 \r\nL 165.94267 229.874489 \r\nL 178.117216 228.256512 \r\nL 190.291761 220.823304 \r\nL 202.466307 212.673934 \r\nL 214.640852 207.941782 \r\nL 226.815398 210.052722 \r\nL 238.989943 215.676083 \r\nL 251.164489 218.697858 \r\nL 263.339034 213.167872 \r\nL 275.51358 200.042063 \r\nL 287.688125 186.904918 \r\nL 299.86267 181.908975 \r\nL 312.037216 179.945778 \r\nL 324.211761 177.979778 \r\nL 336.386307 172.171494 \r\nL 348.560852 162.977565 \r\nL 360.735398 156.563439 \r\nL 372.909943 153.900781 \r\n\" style=\"fill:none;stroke:#0000ff;stroke-linecap:square;stroke-width:1.5;\"/>\r\n   </g>\r\n   <g id=\"patch_3\">\r\n    <path d=\"M 53.328125 239.758125 \r\nL 53.328125 22.318125 \r\n\" style=\"fill:none;stroke:#000000;stroke-linecap:square;stroke-linejoin:miter;stroke-width:0.8;\"/>\r\n   </g>\r\n   <g id=\"patch_4\">\r\n    <path d=\"M 388.128125 239.758125 \r\nL 388.128125 22.318125 \r\n\" style=\"fill:none;stroke:#000000;stroke-linecap:square;stroke-linejoin:miter;stroke-width:0.8;\"/>\r\n   </g>\r\n   <g id=\"patch_5\">\r\n    <path d=\"M 53.328125 239.758125 \r\nL 388.128125 239.758125 \r\n\" style=\"fill:none;stroke:#000000;stroke-linecap:square;stroke-linejoin:miter;stroke-width:0.8;\"/>\r\n   </g>\r\n   <g id=\"patch_6\">\r\n    <path d=\"M 53.328125 22.318125 \r\nL 388.128125 22.318125 \r\n\" style=\"fill:none;stroke:#000000;stroke-linecap:square;stroke-linejoin:miter;stroke-width:0.8;\"/>\r\n   </g>\r\n   <g id=\"text_15\">\r\n    <!-- HCL Stock Price Prediction -->\r\n    <defs>\r\n     <path d=\"M 45.40625 46.390625 \r\nL 45.40625 75.984375 \r\nL 54.390625 75.984375 \r\nL 54.390625 0 \r\nL 45.40625 0 \r\nL 45.40625 8.203125 \r\nQ 42.578125 3.328125 38.25 0.953125 \r\nQ 33.9375 -1.421875 27.875 -1.421875 \r\nQ 17.96875 -1.421875 11.734375 6.484375 \r\nQ 5.515625 14.40625 5.515625 27.296875 \r\nQ 5.515625 40.1875 11.734375 48.09375 \r\nQ 17.96875 56 27.875 56 \r\nQ 33.9375 56 38.25 53.625 \r\nQ 42.578125 51.265625 45.40625 46.390625 \r\nz\r\nM 14.796875 27.296875 \r\nQ 14.796875 17.390625 18.875 11.75 \r\nQ 22.953125 6.109375 30.078125 6.109375 \r\nQ 37.203125 6.109375 41.296875 11.75 \r\nQ 45.40625 17.390625 45.40625 27.296875 \r\nQ 45.40625 37.203125 41.296875 42.84375 \r\nQ 37.203125 48.484375 30.078125 48.484375 \r\nQ 22.953125 48.484375 18.875 42.84375 \r\nQ 14.796875 37.203125 14.796875 27.296875 \r\nz\r\n\" id=\"DejaVuSans-100\"/>\r\n     <path d=\"M 54.890625 33.015625 \r\nL 54.890625 0 \r\nL 45.90625 0 \r\nL 45.90625 32.71875 \r\nQ 45.90625 40.484375 42.875 44.328125 \r\nQ 39.84375 48.1875 33.796875 48.1875 \r\nQ 26.515625 48.1875 22.3125 43.546875 \r\nQ 18.109375 38.921875 18.109375 30.90625 \r\nL 18.109375 0 \r\nL 9.078125 0 \r\nL 9.078125 54.6875 \r\nL 18.109375 54.6875 \r\nL 18.109375 46.1875 \r\nQ 21.34375 51.125 25.703125 53.5625 \r\nQ 30.078125 56 35.796875 56 \r\nQ 45.21875 56 50.046875 50.171875 \r\nQ 54.890625 44.34375 54.890625 33.015625 \r\nz\r\n\" id=\"DejaVuSans-110\"/>\r\n    </defs>\r\n    <g transform=\"translate(141.574063 16.318125)scale(0.12 -0.12)\">\r\n     <use xlink:href=\"#DejaVuSans-72\"/>\r\n     <use x=\"75.195312\" xlink:href=\"#DejaVuSans-67\"/>\r\n     <use x=\"145.019531\" xlink:href=\"#DejaVuSans-76\"/>\r\n     <use x=\"200.732422\" xlink:href=\"#DejaVuSans-32\"/>\r\n     <use x=\"232.519531\" xlink:href=\"#DejaVuSans-83\"/>\r\n     <use x=\"295.996094\" xlink:href=\"#DejaVuSans-116\"/>\r\n     <use x=\"335.205078\" xlink:href=\"#DejaVuSans-111\"/>\r\n     <use x=\"396.386719\" xlink:href=\"#DejaVuSans-99\"/>\r\n     <use x=\"451.367188\" xlink:href=\"#DejaVuSans-107\"/>\r\n     <use x=\"509.277344\" xlink:href=\"#DejaVuSans-32\"/>\r\n     <use x=\"541.064453\" xlink:href=\"#DejaVuSans-80\"/>\r\n     <use x=\"601.351562\" xlink:href=\"#DejaVuSans-114\"/>\r\n     <use x=\"642.464844\" xlink:href=\"#DejaVuSans-105\"/>\r\n     <use x=\"670.248047\" xlink:href=\"#DejaVuSans-99\"/>\r\n     <use x=\"725.228516\" xlink:href=\"#DejaVuSans-101\"/>\r\n     <use x=\"786.751953\" xlink:href=\"#DejaVuSans-32\"/>\r\n     <use x=\"818.539062\" xlink:href=\"#DejaVuSans-80\"/>\r\n     <use x=\"878.826172\" xlink:href=\"#DejaVuSans-114\"/>\r\n     <use x=\"919.908203\" xlink:href=\"#DejaVuSans-101\"/>\r\n     <use x=\"981.431641\" xlink:href=\"#DejaVuSans-100\"/>\r\n     <use x=\"1044.908203\" xlink:href=\"#DejaVuSans-105\"/>\r\n     <use x=\"1072.691406\" xlink:href=\"#DejaVuSans-99\"/>\r\n     <use x=\"1127.671875\" xlink:href=\"#DejaVuSans-116\"/>\r\n     <use x=\"1166.880859\" xlink:href=\"#DejaVuSans-105\"/>\r\n     <use x=\"1194.664062\" xlink:href=\"#DejaVuSans-111\"/>\r\n     <use x=\"1255.845703\" xlink:href=\"#DejaVuSans-110\"/>\r\n    </g>\r\n   </g>\r\n   <g id=\"legend_1\">\r\n    <g id=\"patch_7\">\r\n     <path d=\"M 220.371875 147.21625 \r\nL 381.128125 147.21625 \r\nQ 383.128125 147.21625 383.128125 145.21625 \r\nL 383.128125 116.86 \r\nQ 383.128125 114.86 381.128125 114.86 \r\nL 220.371875 114.86 \r\nQ 218.371875 114.86 218.371875 116.86 \r\nL 218.371875 145.21625 \r\nQ 218.371875 147.21625 220.371875 147.21625 \r\nz\r\n\" style=\"fill:#ffffff;opacity:0.8;stroke:#cccccc;stroke-linejoin:miter;\"/>\r\n    </g>\r\n    <g id=\"line2d_15\">\r\n     <path d=\"M 222.371875 122.958437 \r\nL 242.371875 122.958437 \r\n\" style=\"fill:none;stroke:#ff0000;stroke-linecap:square;stroke-width:1.5;\"/>\r\n    </g>\r\n    <g id=\"line2d_16\"/>\r\n    <g id=\"text_16\">\r\n     <!-- Real HCL Close Price -->\r\n     <defs>\r\n      <path d=\"M 44.390625 34.1875 \r\nQ 47.5625 33.109375 50.5625 29.59375 \r\nQ 53.5625 26.078125 56.59375 19.921875 \r\nL 66.609375 0 \r\nL 56 0 \r\nL 46.6875 18.703125 \r\nQ 43.0625 26.03125 39.671875 28.421875 \r\nQ 36.28125 30.8125 30.421875 30.8125 \r\nL 19.671875 30.8125 \r\nL 19.671875 0 \r\nL 9.8125 0 \r\nL 9.8125 72.90625 \r\nL 32.078125 72.90625 \r\nQ 44.578125 72.90625 50.734375 67.671875 \r\nQ 56.890625 62.453125 56.890625 51.90625 \r\nQ 56.890625 45.015625 53.6875 40.46875 \r\nQ 50.484375 35.9375 44.390625 34.1875 \r\nz\r\nM 19.671875 64.796875 \r\nL 19.671875 38.921875 \r\nL 32.078125 38.921875 \r\nQ 39.203125 38.921875 42.84375 42.21875 \r\nQ 46.484375 45.515625 46.484375 51.90625 \r\nQ 46.484375 58.296875 42.84375 61.546875 \r\nQ 39.203125 64.796875 32.078125 64.796875 \r\nz\r\n\" id=\"DejaVuSans-82\"/>\r\n      <path d=\"M 34.28125 27.484375 \r\nQ 23.390625 27.484375 19.1875 25 \r\nQ 14.984375 22.515625 14.984375 16.5 \r\nQ 14.984375 11.71875 18.140625 8.90625 \r\nQ 21.296875 6.109375 26.703125 6.109375 \r\nQ 34.1875 6.109375 38.703125 11.40625 \r\nQ 43.21875 16.703125 43.21875 25.484375 \r\nL 43.21875 27.484375 \r\nz\r\nM 52.203125 31.203125 \r\nL 52.203125 0 \r\nL 43.21875 0 \r\nL 43.21875 8.296875 \r\nQ 40.140625 3.328125 35.546875 0.953125 \r\nQ 30.953125 -1.421875 24.3125 -1.421875 \r\nQ 15.921875 -1.421875 10.953125 3.296875 \r\nQ 6 8.015625 6 15.921875 \r\nQ 6 25.140625 12.171875 29.828125 \r\nQ 18.359375 34.515625 30.609375 34.515625 \r\nL 43.21875 34.515625 \r\nL 43.21875 35.40625 \r\nQ 43.21875 41.609375 39.140625 45 \r\nQ 35.0625 48.390625 27.6875 48.390625 \r\nQ 23 48.390625 18.546875 47.265625 \r\nQ 14.109375 46.140625 10.015625 43.890625 \r\nL 10.015625 52.203125 \r\nQ 14.9375 54.109375 19.578125 55.046875 \r\nQ 24.21875 56 28.609375 56 \r\nQ 40.484375 56 46.34375 49.84375 \r\nQ 52.203125 43.703125 52.203125 31.203125 \r\nz\r\n\" id=\"DejaVuSans-97\"/>\r\n      <path d=\"M 9.421875 75.984375 \r\nL 18.40625 75.984375 \r\nL 18.40625 0 \r\nL 9.421875 0 \r\nz\r\n\" id=\"DejaVuSans-108\"/>\r\n      <path d=\"M 44.28125 53.078125 \r\nL 44.28125 44.578125 \r\nQ 40.484375 46.53125 36.375 47.5 \r\nQ 32.28125 48.484375 27.875 48.484375 \r\nQ 21.1875 48.484375 17.84375 46.4375 \r\nQ 14.5 44.390625 14.5 40.28125 \r\nQ 14.5 37.15625 16.890625 35.375 \r\nQ 19.28125 33.59375 26.515625 31.984375 \r\nL 29.59375 31.296875 \r\nQ 39.15625 29.25 43.1875 25.515625 \r\nQ 47.21875 21.78125 47.21875 15.09375 \r\nQ 47.21875 7.46875 41.1875 3.015625 \r\nQ 35.15625 -1.421875 24.609375 -1.421875 \r\nQ 20.21875 -1.421875 15.453125 -0.5625 \r\nQ 10.6875 0.296875 5.421875 2 \r\nL 5.421875 11.28125 \r\nQ 10.40625 8.6875 15.234375 7.390625 \r\nQ 20.0625 6.109375 24.8125 6.109375 \r\nQ 31.15625 6.109375 34.5625 8.28125 \r\nQ 37.984375 10.453125 37.984375 14.40625 \r\nQ 37.984375 18.0625 35.515625 20.015625 \r\nQ 33.0625 21.96875 24.703125 23.78125 \r\nL 21.578125 24.515625 \r\nQ 13.234375 26.265625 9.515625 29.90625 \r\nQ 5.8125 33.546875 5.8125 39.890625 \r\nQ 5.8125 47.609375 11.28125 51.796875 \r\nQ 16.75 56 26.8125 56 \r\nQ 31.78125 56 36.171875 55.265625 \r\nQ 40.578125 54.546875 44.28125 53.078125 \r\nz\r\n\" id=\"DejaVuSans-115\"/>\r\n     </defs>\r\n     <g transform=\"translate(250.371875 126.458437)scale(0.1 -0.1)\">\r\n      <use xlink:href=\"#DejaVuSans-82\"/>\r\n      <use x=\"69.419922\" xlink:href=\"#DejaVuSans-101\"/>\r\n      <use x=\"130.943359\" xlink:href=\"#DejaVuSans-97\"/>\r\n      <use x=\"192.222656\" xlink:href=\"#DejaVuSans-108\"/>\r\n      <use x=\"220.005859\" xlink:href=\"#DejaVuSans-32\"/>\r\n      <use x=\"251.792969\" xlink:href=\"#DejaVuSans-72\"/>\r\n      <use x=\"326.988281\" xlink:href=\"#DejaVuSans-67\"/>\r\n      <use x=\"396.8125\" xlink:href=\"#DejaVuSans-76\"/>\r\n      <use x=\"452.525391\" xlink:href=\"#DejaVuSans-32\"/>\r\n      <use x=\"484.3125\" xlink:href=\"#DejaVuSans-67\"/>\r\n      <use x=\"554.136719\" xlink:href=\"#DejaVuSans-108\"/>\r\n      <use x=\"581.919922\" xlink:href=\"#DejaVuSans-111\"/>\r\n      <use x=\"643.101562\" xlink:href=\"#DejaVuSans-115\"/>\r\n      <use x=\"695.201172\" xlink:href=\"#DejaVuSans-101\"/>\r\n      <use x=\"756.724609\" xlink:href=\"#DejaVuSans-32\"/>\r\n      <use x=\"788.511719\" xlink:href=\"#DejaVuSans-80\"/>\r\n      <use x=\"848.798828\" xlink:href=\"#DejaVuSans-114\"/>\r\n      <use x=\"889.912109\" xlink:href=\"#DejaVuSans-105\"/>\r\n      <use x=\"917.695312\" xlink:href=\"#DejaVuSans-99\"/>\r\n      <use x=\"972.675781\" xlink:href=\"#DejaVuSans-101\"/>\r\n     </g>\r\n    </g>\r\n    <g id=\"line2d_17\">\r\n     <path d=\"M 222.371875 137.636562 \r\nL 242.371875 137.636562 \r\n\" style=\"fill:none;stroke:#0000ff;stroke-linecap:square;stroke-width:1.5;\"/>\r\n    </g>\r\n    <g id=\"line2d_18\"/>\r\n    <g id=\"text_17\">\r\n     <!-- Predicted HCL Close Price -->\r\n     <g transform=\"translate(250.371875 141.136562)scale(0.1 -0.1)\">\r\n      <use xlink:href=\"#DejaVuSans-80\"/>\r\n      <use x=\"60.287109\" xlink:href=\"#DejaVuSans-114\"/>\r\n      <use x=\"101.369141\" xlink:href=\"#DejaVuSans-101\"/>\r\n      <use x=\"162.892578\" xlink:href=\"#DejaVuSans-100\"/>\r\n      <use x=\"226.369141\" xlink:href=\"#DejaVuSans-105\"/>\r\n      <use x=\"254.152344\" xlink:href=\"#DejaVuSans-99\"/>\r\n      <use x=\"309.132812\" xlink:href=\"#DejaVuSans-116\"/>\r\n      <use x=\"348.341797\" xlink:href=\"#DejaVuSans-101\"/>\r\n      <use x=\"409.865234\" xlink:href=\"#DejaVuSans-100\"/>\r\n      <use x=\"473.341797\" xlink:href=\"#DejaVuSans-32\"/>\r\n      <use x=\"505.128906\" xlink:href=\"#DejaVuSans-72\"/>\r\n      <use x=\"580.324219\" xlink:href=\"#DejaVuSans-67\"/>\r\n      <use x=\"650.148438\" xlink:href=\"#DejaVuSans-76\"/>\r\n      <use x=\"705.861328\" xlink:href=\"#DejaVuSans-32\"/>\r\n      <use x=\"737.648438\" xlink:href=\"#DejaVuSans-67\"/>\r\n      <use x=\"807.472656\" xlink:href=\"#DejaVuSans-108\"/>\r\n      <use x=\"835.255859\" xlink:href=\"#DejaVuSans-111\"/>\r\n      <use x=\"896.4375\" xlink:href=\"#DejaVuSans-115\"/>\r\n      <use x=\"948.537109\" xlink:href=\"#DejaVuSans-101\"/>\r\n      <use x=\"1010.060547\" xlink:href=\"#DejaVuSans-32\"/>\r\n      <use x=\"1041.847656\" xlink:href=\"#DejaVuSans-80\"/>\r\n      <use x=\"1102.134766\" xlink:href=\"#DejaVuSans-114\"/>\r\n      <use x=\"1143.248047\" xlink:href=\"#DejaVuSans-105\"/>\r\n      <use x=\"1171.03125\" xlink:href=\"#DejaVuSans-99\"/>\r\n      <use x=\"1226.011719\" xlink:href=\"#DejaVuSans-101\"/>\r\n     </g>\r\n    </g>\r\n   </g>\r\n  </g>\r\n </g>\r\n <defs>\r\n  <clipPath id=\"p44ac95a524\">\r\n   <rect height=\"217.44\" width=\"334.8\" x=\"53.328125\" y=\"22.318125\"/>\r\n  </clipPath>\r\n </defs>\r\n</svg>\r\n",
      "image/png": "[encoded data removed]"
     },
     "metadata": {
      "needs_background": "light"
     }
    }
   ],
   "source": [
    "dataset_total = pd.concat((data['close'], dataset_test['close']), axis = 0)\n",
    "inputs = dataset_total[len(data) - len(dataset_test) - 10:].values\n",
    "inputs = inputs.reshape(-1,1)\n",
    "inputs = sc.transform(inputs)\n",
    "X_test = []\n",
    "for i in range(10, 36):\n",
    "    X_test.append(inputs[i-10:i, 0])\n",
    "X_test = np.array(X_test)\n",
    "X_test = np.reshape(X_test, (X_test.shape[0], X_test.shape[1], 1))\n",
    "predicted_stock_price = regressor.predict(X_test)\n",
    "predicted_stock_price = sc.inverse_transform(predicted_stock_price)\n",
    "\n",
    "# Visualising the results\n",
    "plt.plot(real_stock_price, color = 'red', label = 'Real HCL Close Price')\n",
    "plt.plot(predicted_stock_price, color = 'blue', label = 'Predicted HCL Close Price')\n",
    "plt.title('HCL Stock Price Prediction')\n",
    "plt.xlabel('Time')\n",
    "plt.ylabel('HCL Stock Price')\n",
    "plt.legend()\n",
    "plt.show()"
   ]
  },
  {
   "cell_type": "code",
   "execution_count": null,
   "metadata": {},
   "outputs": [],
   "source": []
  },
  {
   "cell_type": "code",
   "execution_count": null,
   "metadata": {},
   "outputs": [],
   "source": []
  }
 ]
}